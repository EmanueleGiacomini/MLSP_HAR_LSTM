{
 "cells": [
  {
   "cell_type": "markdown",
   "metadata": {
    "colab_type": "text",
    "id": "XIgmkOef2_6o"
   },
   "source": [
    "## Machine Learning for Signal Processing 2019/2020 \n",
    "### Teacher: Danilo Comminiello<br>Exam Project\n",
    "\n",
    "* **Project title**: Human Activity Recognition using Long Short Term Memory Network.\n",
    "* **Student(s)**: Emanuele Giacomini 1743995.\n",
    "* **Reference paper / topic**: Hochreiter & Schmidhuber, Long short-term memory. Neural computation, 1997\n",
    "* **Starting and delivery dates**: 20 July /"
   ]
  },
  {
   "cell_type": "markdown",
   "metadata": {
    "colab_type": "text",
    "id": "u9qAyulm3uB_"
   },
   "source": [
    "## Part 1: Report\n",
    "\n",
    "In healthcare and, more specifically, eldercare, the ability to perceive the current user's activity may become essential in assistive tasks. \n",
    "By continually tracking the patient's activity, it may be possible to immediately react to critical situations that otherwise could lead to potentially unrecoverable injuries.\n",
    "The recent growth of Machine Learning led to many approaches to consistently solve the Human Activity Recognition (HAR) problem. In this notebook, one possible solution for  HAR is presented, based on Recurrent Neural Networks and more precisely by adopting an LSTM (Long Short Term Memory) Network.\n",
    "\n",
    "<img src=\"./images/LSTM.png\">\n",
    "\n",
    "LSTM, proposed by S. Hochreiter and J. Schmidhuber, is a possible solution to address short-term and long-term information preservation.\n",
    "An LSTM cell can be seen as an extension of an RU (Recurrent Unit), embedding the recurrent hidden state element for processing short-term information and a memory cell used for long-term storage. Furthermore, the cell contains the set of gates required to control the memory cell:\n",
    "\n",
    "* Forget Gate\n",
    "* Input Gate\n",
    "* Output Gate\n",
    "\n",
    "The Forget Gate either retains or forgets pieces of information previously stored in the memory cell.\n",
    "The Input Gate is responsible for deciding which section of the memory cell to update. The Input Gate pairs with an integrated Recurrent Unit, \n",
    "which generates potential candidates to store in the memory cell.\n",
    "Finally, once the memory cell is appropriately updated, the Output Gate decides which portion it should output."
   ]
  },
  {
   "cell_type": "markdown",
   "metadata": {
    "colab_type": "text",
    "id": "-8GmsjwJ5kUr"
   },
   "source": [
    "## Part 2: External libraries\n",
    "\n",
    "First step is to download from __UCI Machine Learning Repository__ the _HAR_ Dataset. \n",
    "\n",
    "For the project's purpose, some libraries will be used:\n",
    "* __TensorFlow__ framework is used to produce the LSTM models that will be further showed.\n",
    "* __Matplotlib__ for plots\n",
    "* __Sklearn, Pandas and Seaborn__ are used to produce the confusion matrix"
   ]
  },
  {
   "cell_type": "code",
   "execution_count": 1,
   "metadata": {
    "colab": {},
    "colab_type": "code",
    "id": "r31kpPUj26kU"
   },
   "outputs": [
    {
     "name": "stdout",
     "output_type": "stream",
     "text": [
      "Archive:  UCI HAR Dataset.zip\n"
     ]
    }
   ],
   "source": [
    "# Download UCI Human Activity Recognition Dataset (UCI HAR)\n",
    "!wget -nc https://archive.ics.uci.edu/ml/machine-learning-databases/00240/UCI%20HAR%20Dataset.zip\n",
    "!unzip -n UCI\\ HAR\\ Dataset.zip\n",
    "\n",
    "# Import external required libraries\n",
    "import tensorflow as tf\n",
    "tf.keras.backend.set_floatx('float64')\n",
    "# Decomment the following two rows if tf-gpu is begin used\n",
    "\"\"\"\n",
    "physical_devices = tf.config.experimental.list_physical_devices('GPU')\n",
    "tf.config.experimental.set_memory_growth(physical_devices[0], enable=True)\n",
    "\"\"\"\n",
    "# Set random seed to determine the networks behaviour\n",
    "tf.random.set_seed(42)\n",
    "import numpy as np\n",
    "from matplotlib import pyplot as plt\n",
    "# Confusion matrix related imports\n",
    "from sklearn.metrics import confusion_matrix\n",
    "import pandas as pd\n",
    "import seaborn as sn"
   ]
  },
  {
   "cell_type": "markdown",
   "metadata": {},
   "source": [
    "## Part 3: Your code\n",
    "First, by inspecting the dataset, it is possible to comprehend its composition.\n",
    "\n",
    "From the `activity_labels.txt` it is possible to see the six possible labels for the given samples, namely:\n",
    "1. WALKING\n",
    "2. WALKING_UPSTAIRS\n",
    "3. WALKING_DOWNSTAIRS\n",
    "4. SITTING\n",
    "5. STANDING\n",
    "6. LAYING\n",
    "\n",
    "For this recognition task, The model shall use the Inertial Measurement Unit (IMU) raw data comprising nine features:\n",
    "* Body Accelerometer-XYZ (with gravity compensation) [3]\n",
    "* Body Accelerometer-XYZ (without gravity compensation) [3]\n",
    "* Body Gyroscope-XYZ [3]\n",
    "\n",
    "The number between the square brackets shows the dimensionality of each feature.\n",
    "\n",
    "Subsequently, the authors have partitioned the dataset into a training and a test sets (around $0.71$ training/test split with $7352$ samples in the test set)\n",
    "\n",
    "This first section shows the set of essential functions required to read the dataset"
   ]
  },
  {
   "cell_type": "code",
   "execution_count": 2,
   "metadata": {
    "colab": {},
    "colab_type": "code",
    "id": "CzToMcbp68ZM"
   },
   "outputs": [],
   "source": [
    "DATASET_ROOT_FS = './UCI HAR Dataset/'\n",
    "TRAINING_FS     = 'train/'\n",
    "TEST_FS         = 'test/'\n",
    "INERTIAL_FS     = 'Inertial Signals/'\n",
    "\n",
    "DATA_FILES = [\n",
    "    'body_acc_x', 'body_acc_y', 'body_acc_z',\n",
    "    'body_gyro_x', 'body_gyro_y', 'body_gyro_z',\n",
    "    'total_acc_x', 'total_acc_y', 'total_acc_z'\n",
    "]\n",
    "\n",
    "NUM_CLASSES = 6"
   ]
  },
  {
   "cell_type": "code",
   "execution_count": 3,
   "metadata": {},
   "outputs": [],
   "source": [
    "def read_data_lst(path: str, max_length=128) -> [np.array]:\n",
    "    \"\"\"\n",
    "    Returns a list of np.arrays. Each element represent a time series for\n",
    "    measurements indentified by the file 'path'\n",
    "    \"\"\"\n",
    "    data = []\n",
    "    with open(path, 'r') as f:\n",
    "        for line in f.readlines():\n",
    "            line_data = []\n",
    "            for elem in line.strip().split():\n",
    "                val = float(elem)\n",
    "                line_data.append(val)\n",
    "            data.append(np.array(line_data[:max_length]))\n",
    "    return np.array(data)\n",
    "\n",
    "def merge_data(data: [np.array]) -> np.array:\n",
    "    \"\"\"\n",
    "    Merge the lists of features into a single higher-dimensional numpy array.\n",
    "    Each element of the resulting array contains a vector of features\n",
    "    \"\"\"\n",
    "    return np.transpose(data, (1, 2, 0))\n",
    "\n",
    "def read_labels_lst(path: str, zero_idx=True) -> [int]:\n",
    "    \"\"\"\n",
    "    Returns the list of labels for a given file identified by 'path'\n",
    "    \"\"\"\n",
    "    labels = []\n",
    "    with open(path, 'r') as f:\n",
    "        for lab in f.readlines():\n",
    "            label = np.array(int(lab.strip()))\n",
    "            if zero_idx:\n",
    "                label -= 1\n",
    "            labels.append(label)\n",
    "    labels = np.array(labels)\n",
    "    return np.reshape(labels, (labels.shape[0], 1))\n",
    "\n",
    "def load_ucihar(train=True, onehot=True):\n",
    "    main_fs = DATASET_ROOT_FS\n",
    "    main_fs += TRAINING_FS if train else TEST_FS\n",
    "    extension = '_train.txt' if train else '_test.txt'\n",
    "    # Load data\n",
    "    data_lst = [read_data_lst(main_fs + INERTIAL_FS + dname + extension)\n",
    "                for dname in DATA_FILES]\n",
    "    labels_fs = main_fs \n",
    "    labels_fs += 'y_train.txt' if train else 'y_test.txt'\n",
    "    labels = read_labels_lst(labels_fs, True)\n",
    "    data = merge_data(data_lst)\n",
    "    if onehot:\n",
    "        labels = tf.keras.utils.to_categorical(labels, NUM_CLASSES)\n",
    "    return data, labels\n",
    "\n",
    "LABELS = ['WALKING', 'WALKING_UPSTAIRS', 'WALKING_DOWNSTAIRS', 'SITTING', 'STANDING', 'LAYING']\n",
    "\n",
    "def onehot2label(onehot: np.array) -> str:\n",
    "    return LABELS[np.argmax(onehot)]"
   ]
  },
  {
   "cell_type": "code",
   "execution_count": 4,
   "metadata": {},
   "outputs": [],
   "source": [
    "uci_x_train, uci_y_train = load_ucihar(train=True, onehot=True)\n",
    "uci_x_test, uci_y_test   = load_ucihar(train=False, onehot=True)"
   ]
  },
  {
   "cell_type": "code",
   "execution_count": 5,
   "metadata": {},
   "outputs": [
    {
     "name": "stdout",
     "output_type": "stream",
     "text": [
      "(7352, 128, 9) (7352, 6)\n",
      "(2947, 128, 9) (2947, 6)\n"
     ]
    }
   ],
   "source": [
    "print(uci_x_train.shape, uci_y_train.shape)\n",
    "print(uci_x_test.shape, uci_y_test.shape)"
   ]
  },
  {
   "cell_type": "markdown",
   "metadata": {},
   "source": [
    "It is possible to explore and understand the treated data by plotting some samples from the training set. The following plot shows only $3$ out of $9$ features, namely the __body acceleration in XYZ directions__. Notice that just from this set of features, it is possible to distinguish the different classes visually."
   ]
  },
  {
   "cell_type": "code",
   "execution_count": 6,
   "metadata": {},
   "outputs": [
    {
     "data": {
      "image/png": "[encoded data removed]",
      "text/plain": [
       "<Figure size 576x288 with 3 Axes>"
      ]
     },
     "metadata": {
      "needs_background": "light"
     },
     "output_type": "display_data"
    }
   ],
   "source": [
    "def plot_samples(data_lst:[[np.array]], labels:[str]) -> None:\n",
    "    fig, axs = plt.subplots(len(data_lst), figsize=(8, 4), sharey=True)\n",
    "    for i in range(len(data_lst)):\n",
    "        # Plot-wise loop\n",
    "        for j in range(len(data_lst[i])):\n",
    "            axs[i].plot(data_lst[i][j])\n",
    "        axs[i].set_title(labels[i])\n",
    "    plt.tight_layout()\n",
    "        \n",
    "    \n",
    "plot_samples([[uci_x_train[0][:,0], uci_x_train[0][:,1], uci_x_train[0][:,2]],\n",
    "             [uci_x_train[4500][:,0], uci_x_train[4500][:,1], uci_x_train[4500][:,2]],\n",
    "             [uci_x_train[2000][:,0], uci_x_train[2000][:,1], uci_x_train[2000][:,2]]],\n",
    "            [onehot2label(uci_y_train[0]), onehot2label(uci_y_train[4500]), onehot2label(uci_y_train[2000])])\n",
    "    "
   ]
  },
  {
   "cell_type": "markdown",
   "metadata": {},
   "source": [
    "Finally, by transforming the dataset in the form of a _tf.Dataset_, it is possible to ease its manipulability for further operations."
   ]
  },
  {
   "cell_type": "code",
   "execution_count": 7,
   "metadata": {},
   "outputs": [],
   "source": [
    "BUFFER_SIZE = 5000\n",
    "BATCH_SIZE = 128\n",
    "NUM_FEATURES = 9\n",
    "\n",
    "har_train = tf.data.Dataset.from_tensor_slices((uci_x_train, uci_y_train))\n",
    "har_train = har_train.cache().shuffle(BUFFER_SIZE).batch(BATCH_SIZE)\n",
    "\n",
    "har_val = tf.data.Dataset.from_tensor_slices((uci_x_test, uci_y_test))\n",
    "har_val = har_val.cache().batch(BATCH_SIZE)"
   ]
  },
  {
   "cell_type": "markdown",
   "metadata": {},
   "source": [
    "## Keras Model\n",
    "The following script shows three functional models characterized by several factors, like network depth and thus the number of parameters, in order to experiment with different architectures.\n",
    "\n",
    "Each network is composed of an initial __LSTM__ layer. The number of units in this layer characterizes the dimensionality of the output space, thus providing a more or less complicated abstract space.\n",
    "\n",
    "Subsequently, a _Dense_ layer of __six__ units with _softmax_ activation function identifies each network's final layer. This layer's task is to produce a stochastic distribution, which likely represents the affiliation of a given input with a particular class.\n",
    "\n",
    "$$\\sigma(x)_i = \\frac{e^{x_i}}{\\sum_i e^{x_i}}$$\n",
    "\n",
    "The optimization process minimizes the __Categorical Cross-Entropy__ loss function. This function produces a statistical value denoting the \"difference\" between two probabilities, namely the one observable through the sample's labels and the one produced by the model. Once the distance is sufficiently low, the model should correctly predict most of the samples in the validation set, provided that no significant bias affects the given training set.\n",
    "\n",
    "$$\\text{CE}(y, \\sigma(x)) = -\\sum_i y_i \\log\\sigma(x)_i$$"
   ]
  },
  {
   "cell_type": "code",
   "execution_count": 8,
   "metadata": {},
   "outputs": [],
   "source": [
    "lstm_estimator_01 = tf.keras.models.Sequential()\n",
    "lstm_estimator_02 = tf.keras.models.Sequential()\n",
    "lstm_estimator_03 = tf.keras.models.Sequential()\n",
    "\n",
    "lstm_estimator_01.add(tf.keras.layers.LSTM(128))\n",
    "lstm_estimator_01.add(tf.keras.layers.Dense(NUM_CLASSES, activation='softmax'))\n",
    "lstm_estimator_01.compile(optimizer='adam',\n",
    "                         loss=tf.keras.losses.CategoricalCrossentropy(),\n",
    "                          metrics=['acc'])\n",
    "\n",
    "lstm_estimator_02.add(tf.keras.layers.LSTM(512))\n",
    "lstm_estimator_02.add(tf.keras.layers.Dense(NUM_CLASSES, activation='softmax'))\n",
    "lstm_estimator_02.compile(optimizer='adam',\n",
    "                         loss=tf.keras.losses.CategoricalCrossentropy(),\n",
    "                          metrics=['acc'])\n",
    "\n",
    "lstm_estimator_03.add(tf.keras.layers.LSTM(256))\n",
    "lstm_estimator_03.add(tf.keras.layers.Dense(64, activation='relu'))\n",
    "lstm_estimator_03.add(tf.keras.layers.Dense(NUM_CLASSES, activation='softmax'))\n",
    "lstm_estimator_03.compile(optimizer='adam',\n",
    "                         loss=tf.keras.losses.CategoricalCrossentropy(),\n",
    "                          metrics=['acc'])\n",
    "\n",
    "models = [lstm_estimator_01, lstm_estimator_02, lstm_estimator_03]"
   ]
  },
  {
   "cell_type": "markdown",
   "metadata": {
    "colab_type": "text",
    "id": "oCxEf5dc8ZEp"
   },
   "source": [
    "## Part 4 - Experimental evaluation\n"
   ]
  },
  {
   "cell_type": "markdown",
   "metadata": {},
   "source": [
    "The following section comprehends the training phase for the presented models plus tests on the validation set.\n",
    "\n",
    "An __Epoch__ defines an iteration on the whole training set (__TODO__ citazione keras). Each network is allowed to run the training phase for at most $100$ epochs.  After each epoch, the training function tests the model by predicting a subset of samples from the validation set.\n",
    "\n",
    "An EarlyStopping algorithm provided by the Tensorflow framework under the form of a callback guards the training phase, thus preventing any significant overfitting of the models.\n",
    "This callback monitors the accuracy of the validation set at each epoch. If the model cannot achieve a better validation accuracy over $7$ epochs following the best one, then the training phase is stopped, and the algorithm restores the best model's parameters accordingly to the previous best epoch."
   ]
  },
  {
   "cell_type": "code",
   "execution_count": 9,
   "metadata": {
    "colab": {},
    "colab_type": "code",
    "id": "MjQLcmuw8ahb"
   },
   "outputs": [
    {
     "name": "stdout",
     "output_type": "stream",
     "text": [
      "Starting training phase for model no. 0...Epoch 1/100\n",
      "58/58 [==============================] - 25s 439ms/step - loss: 1.2836 - acc: 0.4563 - val_loss: 1.1537 - val_acc: 0.5382\n",
      "Epoch 2/100\n",
      "58/58 [==============================] - 25s 432ms/step - loss: 0.8767 - acc: 0.6311 - val_loss: 0.8578 - val_acc: 0.6712\n",
      "Epoch 3/100\n",
      "58/58 [==============================] - 26s 445ms/step - loss: 0.7011 - acc: 0.7135 - val_loss: 0.7524 - val_acc: 0.6994\n",
      "Epoch 4/100\n",
      "58/58 [==============================] - 25s 438ms/step - loss: 0.5858 - acc: 0.7718 - val_loss: 0.5783 - val_acc: 0.7883\n",
      "Epoch 5/100\n",
      "58/58 [==============================] - 34s 578ms/step - loss: 0.4245 - acc: 0.8440 - val_loss: 0.4979 - val_acc: 0.8107\n",
      "Epoch 6/100\n",
      "58/58 [==============================] - 33s 576ms/step - loss: 0.5433 - acc: 0.8205 - val_loss: 0.5668 - val_acc: 0.7954\n",
      "Epoch 7/100\n",
      "58/58 [==============================] - 30s 522ms/step - loss: 0.3108 - acc: 0.8976 - val_loss: 0.4100 - val_acc: 0.8575\n",
      "Epoch 8/100\n",
      "58/58 [==============================] - 27s 464ms/step - loss: 0.2877 - acc: 0.8872 - val_loss: 0.5642 - val_acc: 0.8022\n",
      "Epoch 9/100\n",
      "58/58 [==============================] - 44s 763ms/step - loss: 0.2267 - acc: 0.9215 - val_loss: 0.3268 - val_acc: 0.8962\n",
      "Epoch 10/100\n",
      "58/58 [==============================] - 30s 521ms/step - loss: 0.1648 - acc: 0.9400 - val_loss: 0.2589 - val_acc: 0.9060\n",
      "Epoch 11/100\n",
      "58/58 [==============================] - 30s 510ms/step - loss: 0.1450 - acc: 0.9474 - val_loss: 0.3046 - val_acc: 0.8968\n",
      "Epoch 12/100\n",
      "58/58 [==============================] - 28s 487ms/step - loss: 0.1516 - acc: 0.9404 - val_loss: 0.3181 - val_acc: 0.9002\n",
      "Epoch 13/100\n",
      "58/58 [==============================] - 28s 480ms/step - loss: 0.1605 - acc: 0.9350 - val_loss: 0.2940 - val_acc: 0.9057\n",
      "Epoch 14/100\n",
      "58/58 [==============================] - 29s 503ms/step - loss: 0.1498 - acc: 0.9407 - val_loss: 0.3263 - val_acc: 0.9040\n",
      "Epoch 15/100\n",
      "58/58 [==============================] - 34s 594ms/step - loss: 0.2793 - acc: 0.9104 - val_loss: 0.6885 - val_acc: 0.7408\n",
      "Epoch 16/100\n",
      "58/58 [==============================] - 34s 580ms/step - loss: 0.2447 - acc: 0.9104 - val_loss: 0.2895 - val_acc: 0.8955\n",
      "Epoch 17/100\n",
      "58/58 [==============================] - 32s 544ms/step - loss: 0.1492 - acc: 0.9457 - val_loss: 0.3021 - val_acc: 0.9057\n",
      "Completed.\n",
      "Starting training phase for model no. 1...Epoch 1/100\n",
      "58/58 [==============================] - 170s 3s/step - loss: 1.2854 - acc: 0.4437 - val_loss: 1.2258 - val_acc: 0.4951\n",
      "Epoch 2/100\n",
      "58/58 [==============================] - 166s 3s/step - loss: 0.9654 - acc: 0.6070 - val_loss: 1.4763 - val_acc: 0.4489\n",
      "Epoch 3/100\n",
      "58/58 [==============================] - 158s 3s/step - loss: 0.8445 - acc: 0.6355 - val_loss: 0.6999 - val_acc: 0.7000\n",
      "Epoch 4/100\n",
      "58/58 [==============================] - 165s 3s/step - loss: 0.4709 - acc: 0.8146 - val_loss: 0.6413 - val_acc: 0.7713\n",
      "Epoch 5/100\n",
      "58/58 [==============================] - 159s 3s/step - loss: 0.3292 - acc: 0.8799 - val_loss: 0.3408 - val_acc: 0.8768\n",
      "Epoch 6/100\n",
      "58/58 [==============================] - 149s 3s/step - loss: 0.2034 - acc: 0.9214 - val_loss: 0.3070 - val_acc: 0.8884\n",
      "Epoch 7/100\n",
      "58/58 [==============================] - 140s 2s/step - loss: 0.1751 - acc: 0.9331 - val_loss: 0.3021 - val_acc: 0.9006\n",
      "Epoch 8/100\n",
      "58/58 [==============================] - 139s 2s/step - loss: 0.7071 - acc: 0.7622 - val_loss: 0.4868 - val_acc: 0.8303\n",
      "Epoch 9/100\n",
      "58/58 [==============================] - 138s 2s/step - loss: 0.3320 - acc: 0.8815 - val_loss: 0.3538 - val_acc: 0.8755\n",
      "Epoch 10/100\n",
      "58/58 [==============================] - 139s 2s/step - loss: 0.2798 - acc: 0.8989 - val_loss: 0.3479 - val_acc: 0.8571\n",
      "Epoch 11/100\n",
      "58/58 [==============================] - 148s 3s/step - loss: 0.1994 - acc: 0.9206 - val_loss: 0.2830 - val_acc: 0.8918\n",
      "Epoch 12/100\n",
      "58/58 [==============================] - 142s 2s/step - loss: 0.3360 - acc: 0.8751 - val_loss: 0.5469 - val_acc: 0.8551\n",
      "Epoch 13/100\n",
      "58/58 [==============================] - 147s 3s/step - loss: 0.2746 - acc: 0.9007 - val_loss: 0.3882 - val_acc: 0.8378\n",
      "Epoch 14/100\n",
      "58/58 [==============================] - 148s 3s/step - loss: 0.1975 - acc: 0.9189 - val_loss: 0.3521 - val_acc: 0.8782\n",
      "Completed.\n",
      "Starting training phase for model no. 2...Epoch 1/100\n",
      "58/58 [==============================] - 55s 943ms/step - loss: 1.2479 - acc: 0.4811 - val_loss: 1.0334 - val_acc: 0.5616\n",
      "Epoch 2/100\n",
      "58/58 [==============================] - 55s 941ms/step - loss: 0.8201 - acc: 0.6782 - val_loss: 0.6908 - val_acc: 0.7255\n",
      "Epoch 3/100\n",
      "58/58 [==============================] - 54s 934ms/step - loss: 0.6741 - acc: 0.7655 - val_loss: 0.6740 - val_acc: 0.7727\n",
      "Epoch 4/100\n",
      "58/58 [==============================] - 52s 898ms/step - loss: 0.4992 - acc: 0.8226 - val_loss: 0.5655 - val_acc: 0.8140\n",
      "Epoch 5/100\n",
      "58/58 [==============================] - 54s 925ms/step - loss: 0.2900 - acc: 0.8995 - val_loss: 0.4095 - val_acc: 0.8768\n",
      "Epoch 6/100\n",
      "58/58 [==============================] - 53s 906ms/step - loss: 0.2224 - acc: 0.9189 - val_loss: 0.3255 - val_acc: 0.8907\n",
      "Epoch 7/100\n",
      "58/58 [==============================] - 52s 905ms/step - loss: 0.1783 - acc: 0.9342 - val_loss: 0.2774 - val_acc: 0.9118\n",
      "Epoch 8/100\n",
      "58/58 [==============================] - 52s 895ms/step - loss: 0.1525 - acc: 0.9395 - val_loss: 0.2711 - val_acc: 0.9125\n",
      "Epoch 9/100\n",
      "58/58 [==============================] - 52s 892ms/step - loss: 0.1497 - acc: 0.9384 - val_loss: 0.3045 - val_acc: 0.8941\n",
      "Epoch 10/100\n",
      "58/58 [==============================] - 51s 873ms/step - loss: 0.2058 - acc: 0.9259 - val_loss: 0.3345 - val_acc: 0.8999\n",
      "Epoch 11/100\n",
      "58/58 [==============================] - 53s 909ms/step - loss: 0.1587 - acc: 0.9397 - val_loss: 0.2997 - val_acc: 0.9094\n",
      "Epoch 12/100\n",
      "58/58 [==============================] - 53s 915ms/step - loss: 0.1478 - acc: 0.9404 - val_loss: 0.3230 - val_acc: 0.8887\n",
      "Epoch 13/100\n",
      "58/58 [==============================] - 54s 925ms/step - loss: 0.1447 - acc: 0.9445 - val_loss: 0.3087 - val_acc: 0.9118\n",
      "Epoch 14/100\n",
      "58/58 [==============================] - 49s 848ms/step - loss: 0.1513 - acc: 0.9406 - val_loss: 0.2658 - val_acc: 0.9145\n",
      "Epoch 15/100\n",
      "58/58 [==============================] - 50s 856ms/step - loss: 0.1277 - acc: 0.9524 - val_loss: 0.2476 - val_acc: 0.9179\n",
      "Epoch 16/100\n",
      "58/58 [==============================] - 53s 911ms/step - loss: 0.1631 - acc: 0.9324 - val_loss: 0.2371 - val_acc: 0.9220\n",
      "Epoch 17/100\n",
      "58/58 [==============================] - 53s 907ms/step - loss: 0.1317 - acc: 0.9516 - val_loss: 0.2409 - val_acc: 0.9233\n",
      "Epoch 18/100\n",
      "58/58 [==============================] - 51s 887ms/step - loss: 0.1296 - acc: 0.9501 - val_loss: 0.2563 - val_acc: 0.9131\n",
      "Epoch 19/100\n",
      "58/58 [==============================] - 53s 919ms/step - loss: 0.1347 - acc: 0.9474 - val_loss: 0.2359 - val_acc: 0.9158\n",
      "Epoch 20/100\n",
      "58/58 [==============================] - 52s 897ms/step - loss: 0.1143 - acc: 0.9525 - val_loss: 0.2331 - val_acc: 0.9243\n",
      "Epoch 21/100\n",
      "58/58 [==============================] - 52s 888ms/step - loss: 0.1114 - acc: 0.9542 - val_loss: 0.2567 - val_acc: 0.9121\n",
      "Epoch 22/100\n",
      "58/58 [==============================] - 50s 862ms/step - loss: 0.1099 - acc: 0.9523 - val_loss: 0.2533 - val_acc: 0.9220\n",
      "Epoch 23/100\n",
      "58/58 [==============================] - 52s 897ms/step - loss: 0.1274 - acc: 0.9419 - val_loss: 0.2241 - val_acc: 0.9192\n",
      "Epoch 24/100\n",
      "58/58 [==============================] - 53s 907ms/step - loss: 0.1189 - acc: 0.9501 - val_loss: 0.2367 - val_acc: 0.9206\n",
      "Epoch 25/100\n",
      "58/58 [==============================] - 53s 918ms/step - loss: 0.1224 - acc: 0.9487 - val_loss: 0.2364 - val_acc: 0.9223\n",
      "Epoch 26/100\n",
      "58/58 [==============================] - 52s 893ms/step - loss: 0.1174 - acc: 0.9506 - val_loss: 0.2646 - val_acc: 0.9169\n",
      "Epoch 27/100\n",
      "58/58 [==============================] - 52s 904ms/step - loss: 0.1160 - acc: 0.9504 - val_loss: 0.2602 - val_acc: 0.9131\n",
      "Completed.\n"
     ]
    }
   ],
   "source": [
    "NUM_EPOCHS = 100\n",
    "models_history = []\n",
    "for i, model in enumerate(models):\n",
    "    print(f'Starting training phase for model no. {i}...', end='')\n",
    "    early_stopping_cb = tf.keras.callbacks.EarlyStopping(monitor='val_acc', patience=7, restore_best_weights=True)\n",
    "    hist = model.fit(har_train,\n",
    "                     epochs=NUM_EPOCHS,\n",
    "                     validation_data=har_val,\n",
    "                     callbacks=[early_stopping_cb],\n",
    "                     verbose=True)\n",
    "    print('Completed.')\n",
    "    model.save(f'model_{i}.md')\n",
    "    models_history.append(hist)"
   ]
  },
  {
   "cell_type": "markdown",
   "metadata": {},
   "source": [
    "Once the training phase ends, it is possible to plot the training history by querying the resulting structure for both accuracy and loss compared to the training and validation sets. The following function plots the resulting elements for the three models."
   ]
  },
  {
   "cell_type": "code",
   "execution_count": 1,
   "metadata": {},
   "outputs": [
    {
     "ename": "NameError",
     "evalue": "name 'tf' is not defined",
     "output_type": "error",
     "traceback": [
      "\u001b[0;31m------------------------\u001b[0m",
      "\u001b[0;31mNameError\u001b[0mTraceback (most recent call last)",
      "\u001b[0;32m<ipython-input-1-f0d52a1c8c11>\u001b[0m in \u001b[0;36m<module>\u001b[0;34m\u001b[0m\n\u001b[0;32m----> 1\u001b[0;31m \u001b[0;32mdef\u001b[0m \u001b[0mplot_models_result\u001b[0m\u001b[0;34m(\u001b[0m\u001b[0mhistory\u001b[0m\u001b[0;34m:\u001b[0m \u001b[0;34m[\u001b[0m\u001b[0mtf\u001b[0m\u001b[0;34m.\u001b[0m\u001b[0mkeras\u001b[0m\u001b[0;34m.\u001b[0m\u001b[0mcallbacks\u001b[0m\u001b[0;34m.\u001b[0m\u001b[0mHistory\u001b[0m\u001b[0;34m]\u001b[0m\u001b[0;34m)\u001b[0m \u001b[0;34m->\u001b[0m \u001b[0;32mNone\u001b[0m\u001b[0;34m:\u001b[0m\u001b[0;34m\u001b[0m\u001b[0;34m\u001b[0m\u001b[0m\n\u001b[0m\u001b[1;32m      2\u001b[0m     \u001b[0mfig\u001b[0m\u001b[0;34m,\u001b[0m \u001b[0maxs\u001b[0m \u001b[0;34m=\u001b[0m \u001b[0mplt\u001b[0m\u001b[0;34m.\u001b[0m\u001b[0msubplots\u001b[0m\u001b[0;34m(\u001b[0m\u001b[0;36m2\u001b[0m\u001b[0;34m,\u001b[0m \u001b[0mfigsize\u001b[0m\u001b[0;34m=\u001b[0m\u001b[0;34m(\u001b[0m\u001b[0;36m13\u001b[0m\u001b[0;34m,\u001b[0m \u001b[0;36m8\u001b[0m\u001b[0;34m)\u001b[0m\u001b[0;34m,\u001b[0m \u001b[0msharex\u001b[0m\u001b[0;34m=\u001b[0m\u001b[0;32mTrue\u001b[0m\u001b[0;34m)\u001b[0m\u001b[0;34m\u001b[0m\u001b[0;34m\u001b[0m\u001b[0m\n\u001b[1;32m      3\u001b[0m     \u001b[0;32mfor\u001b[0m \u001b[0mi\u001b[0m\u001b[0;34m,\u001b[0m \u001b[0mhist\u001b[0m \u001b[0;32min\u001b[0m \u001b[0menumerate\u001b[0m\u001b[0;34m(\u001b[0m\u001b[0mhistory\u001b[0m\u001b[0;34m)\u001b[0m\u001b[0;34m:\u001b[0m\u001b[0;34m\u001b[0m\u001b[0;34m\u001b[0m\u001b[0m\n\u001b[1;32m      4\u001b[0m         \u001b[0maxs\u001b[0m\u001b[0;34m[\u001b[0m\u001b[0;36m0\u001b[0m\u001b[0;34m]\u001b[0m\u001b[0;34m.\u001b[0m\u001b[0mplot\u001b[0m\u001b[0;34m(\u001b[0m\u001b[0mhist\u001b[0m\u001b[0;34m.\u001b[0m\u001b[0mhistory\u001b[0m\u001b[0;34m[\u001b[0m\u001b[0;34m'loss'\u001b[0m\u001b[0;34m]\u001b[0m\u001b[0;34m,\u001b[0m \u001b[0;34m'--o'\u001b[0m\u001b[0;34m,\u001b[0m \u001b[0mlabel\u001b[0m\u001b[0;34m=\u001b[0m\u001b[0;34mf'training_{i}'\u001b[0m\u001b[0;34m)\u001b[0m\u001b[0;34m\u001b[0m\u001b[0;34m\u001b[0m\u001b[0m\n\u001b[1;32m      5\u001b[0m         \u001b[0maxs\u001b[0m\u001b[0;34m[\u001b[0m\u001b[0;36m0\u001b[0m\u001b[0;34m]\u001b[0m\u001b[0;34m.\u001b[0m\u001b[0mplot\u001b[0m\u001b[0;34m(\u001b[0m\u001b[0mhist\u001b[0m\u001b[0;34m.\u001b[0m\u001b[0mhistory\u001b[0m\u001b[0;34m[\u001b[0m\u001b[0;34m'val_loss'\u001b[0m\u001b[0;34m]\u001b[0m\u001b[0;34m,\u001b[0m \u001b[0;34m'-o'\u001b[0m\u001b[0;34m,\u001b[0m \u001b[0mlabel\u001b[0m\u001b[0;34m=\u001b[0m\u001b[0;34mf'model_{i}'\u001b[0m\u001b[0;34m)\u001b[0m\u001b[0;34m\u001b[0m\u001b[0;34m\u001b[0m\u001b[0m\n",
      "\u001b[0;31mNameError\u001b[0m: name 'tf' is not defined"
     ]
    }
   ],
   "source": [
    "def plot_models_result(history: [tf.keras.callbacks.History]) -> None:\n",
    "    fig, axs = plt.subplots(2, figsize=(13, 8), sharex=True)\n",
    "    for i, hist in enumerate(history):\n",
    "        axs[0].plot(hist.history['loss'], '--o', label=f'training_{i}')\n",
    "        axs[0].plot(hist.history['val_loss'], '-o', label=f'validation_{i}')\n",
    "        axs[1].plot(hist.history['acc'], '--o', label=f'training_{i}')\n",
    "        axs[1].plot(hist.history['val_acc'], '-o', label=f'validation_{i}')\n",
    "    axs[0].legend()\n",
    "    axs[1].legend()\n",
    "    axs[0].set_title('Loss')\n",
    "    axs[1].set_title('Accuracy')\n",
    "    plt.tight_layout()\n",
    "    \n",
    "plot_models_result(models_history)"
   ]
  },
  {
   "cell_type": "markdown",
   "metadata": {},
   "source": [
    "From the plots, it is possible to see that the three models obtain over $90\\%$ accuracy.  \n",
    "Notice, however, that for both model $1$ and $2$, the early stopping callback quickly stops the training, whereas model $3$ keeps improving for a more extended time.\n",
    "\n",
    "__TODO__ Add comment regarding overfitting\n",
    "\n",
    "It is crucial to keep in mind that accuracy does not yield enough information regarding the training quality. A relevant metric used in multiclass classification is the __Confusion Matrix__. The matrix's dimension is $n\\times n$ if there are $n$ classes, and each element $x_{ij}$ represents how many samples of class $i$ are classified as class $j$.\n",
    "The following function samples and predicts $10$ batches from the validation set and uses the results to build the confusion matrix for the selected model. The following plot shows the resulting confusion matrix for model $1$."
   ]
  },
  {
   "cell_type": "code",
   "execution_count": 11,
   "metadata": {},
   "outputs": [
    {
     "data": {
      "image/png": "[encoded data removed]",
      "text/plain": [
       "<Figure size 360x360 with 2 Axes>"
      ]
     },
     "metadata": {
      "needs_background": "light"
     },
     "output_type": "display_data"
    }
   ],
   "source": [
    "def plot_confusion_matrix(confusion_mat: np.array) -> None:\n",
    "    fig, ax = plt.subplots(figsize=(5,5))\n",
    "    df_cm = pd.DataFrame(confusion_mat.astype(np.int), range(NUM_CLASSES), range(NUM_CLASSES))\n",
    "    ax = sn.heatmap(df_cm, annot=True, fmt='d')\n",
    "    ax.set_ylim(len(confusion_mat), 0.0)\n",
    "    ax.set_title('Confusion matrix')\n",
    "    \n",
    "\n",
    "cm = np.zeros(shape=(NUM_CLASSES, NUM_CLASSES))\n",
    "for x_val, y_val in har_val.take(10):\n",
    "    y_true = np.argmax(y_val, axis=1)\n",
    "    y_pred = np.argmax(models[2].predict(x_val), axis=1)\n",
    "    tcm = confusion_matrix(y_true, y_pred, labels=range(0, NUM_CLASSES))\n",
    "    cm += tcm\n",
    "\n",
    "plot_confusion_matrix(cm)\n",
    "plt.tight_layout()\n",
    "plt.show()"
   ]
  },
  {
   "cell_type": "markdown",
   "metadata": {},
   "source": [
    "A performing model produces a fully diagonal confusion matrix. In this example, the overall quality of classification is reasonable. Notice a misclassification between classes $3$ and $4$, which corresponds to __SITTING_ and __STANDING__, respectively.\n",
    "\n",
    "Another relevant metric to be considered regards the dimension of the model for its validation performance. The following plot shows the number of parameters for accuracy comparison of all the presented models."
   ]
  },
  {
   "cell_type": "code",
   "execution_count": 12,
   "metadata": {},
   "outputs": [
    {
     "data": {
      "image/png": "[encoded data removed]",
      "text/plain": [
       "<Figure size 720x720 with 1 Axes>"
      ]
     },
     "metadata": {
      "needs_background": "light"
     },
     "output_type": "display_data"
    }
   ],
   "source": [
    "def count_params(model:tf.keras.models.Model) -> int:\n",
    "    trainable_count = int(np.sum([tf.keras.backend.count_params(p) for p in list(model.trainable_weights)]))\n",
    "    return trainable_count\n",
    "\n",
    "fig, ax = plt.subplots(figsize=(10,10))\n",
    "model_params = [count_params(m) for m in models]\n",
    "max_accuracy = [np.max(h.history['val_acc']) for h in models_history]\n",
    "#ax.plot(np.array(model_params), np.array(max_accuracy), 'x')\n",
    "for i in range(len(model_params)):\n",
    "    ax.plot(model_params[i], max_accuracy[i], 'o', label=f'model_{i}', markersize=12)\n",
    "ax.set_yticks(np.arange(0, 1, 0.2))\n",
    "ax.set_yticks(np.arange(0, 1, 0.05), minor=True)\n",
    "ax.set_facecolor('None')\n",
    "ax.grid(True, which='both', color='black')\n",
    "ax.grid(which='minor', alpha=0.2)\n",
    "ax.legend()\n",
    "ax.set_ylim(0, 1)\n",
    "plt.show()"
   ]
  },
  {
   "cell_type": "markdown",
   "metadata": {},
   "source": [
    "Despite begin quite similar in terms of accuracy, model_0 provides over $90\\%$ of accuracy having less than half trainable parameters with respect to model_2"
   ]
  },
  {
   "cell_type": "code",
   "execution_count": 13,
   "metadata": {},
   "outputs": [
    {
     "data": {
      "text/html": [
       "<div>\n",
       "<style scoped>\n",
       "    .dataframe tbody tr th:only-of-type {\n",
       "        vertical-align: middle;\n",
       "    }\n",
       "\n",
       "    .dataframe tbody tr th {\n",
       "        vertical-align: top;\n",
       "    }\n",
       "\n",
       "    .dataframe thead th {\n",
       "        text-align: right;\n",
       "    }\n",
       "</style>\n",
       "<table border=\"1\" class=\"dataframe\">\n",
       "  <thead>\n",
       "    <tr style=\"text-align: right;\">\n",
       "      <th></th>\n",
       "      <th>acc_params ratio</th>\n",
       "    </tr>\n",
       "  </thead>\n",
       "  <tbody>\n",
       "    <tr>\n",
       "      <th>0</th>\n",
       "      <td>1.268383e-05</td>\n",
       "    </tr>\n",
       "    <tr>\n",
       "      <th>1</th>\n",
       "      <td>8.399854e-07</td>\n",
       "    </tr>\n",
       "    <tr>\n",
       "      <th>2</th>\n",
       "      <td>3.195918e-06</td>\n",
       "    </tr>\n",
       "  </tbody>\n",
       "</table>\n",
       "</div>"
      ],
      "text/plain": [
       "   acc_params ratio\n",
       "0      1.268383e-05\n",
       "1      8.399854e-07\n",
       "2      3.195918e-06"
      ]
     },
     "execution_count": 13,
     "metadata": {},
     "output_type": "execute_result"
    }
   ],
   "source": [
    "pd.DataFrame(np.array(max_accuracy) / np.array(model_params), columns=['acc_params ratio'])"
   ]
  }
 ],
 "metadata": {
  "colab": {
   "name": "Template_Exam_Neural_Networks.ipynb",
   "provenance": []
  },
  "kernelspec": {
   "display_name": "Python 3",
   "language": "python",
   "name": "python3"
  },
  "language_info": {
   "codemirror_mode": {
    "name": "ipython",
    "version": 3
   },
   "file_extension": ".py",
   "mimetype": "text/x-python",
   "name": "python",
   "nbconvert_exporter": "python",
   "pygments_lexer": "ipython3",
   "version": "3.7.5"
  }
 },
 "nbformat": 4,
 "nbformat_minor": 4
}
